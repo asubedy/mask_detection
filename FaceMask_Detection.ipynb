{
  "nbformat": 4,
  "nbformat_minor": 0,
  "metadata": {
    "kernelspec": {
      "display_name": "Python 3",
      "language": "python",
      "name": "python3"
    },
    "language_info": {
      "codemirror_mode": {
        "name": "ipython",
        "version": 3
      },
      "file_extension": ".py",
      "mimetype": "text/x-python",
      "name": "python",
      "nbconvert_exporter": "python",
      "pygments_lexer": "ipython3",
      "version": "3.7.7"
    },
    "colab": {
      "name": "FaceMask-Detection.ipynb",
      "provenance": [],
      "collapsed_sections": []
    },
    "accelerator": "GPU"
  },
  "cells": [
    {
      "cell_type": "code",
      "metadata": {
        "id": "yX4MBSKfo46r",
        "colab": {
          "base_uri": "https://localhost:8080/"
        },
        "outputId": "a9bb3c5d-0b52-41df-e0b1-f3dac1bb899f"
      },
      "source": [
        "%tensorflow_version 2.x\n",
        "import tensorflow as tf\n",
        "device_name = tf.test.gpu_device_name()\n",
        "if device_name != '/device:GPU:0':\n",
        "  raise SystemError('GPU device not found')\n",
        "print('Found GPU at: {}'.format(device_name))"
      ],
      "execution_count": null,
      "outputs": [
        {
          "output_type": "stream",
          "text": [
            "Found GPU at: /device:GPU:0\n"
          ],
          "name": "stdout"
        }
      ]
    },
    {
      "cell_type": "code",
      "metadata": {
        "id": "Wn6VlQfLo8Jc",
        "colab": {
          "base_uri": "https://localhost:8080/"
        },
        "outputId": "ba0b9c68-2e17-4a7c-b5c6-251d5d8fdaf3"
      },
      "source": [
        "%tensorflow_version 2.x\n",
        "import tensorflow as tf\n",
        "import timeit\n",
        "\n",
        "device_name = tf.test.gpu_device_name()\n",
        "if device_name != '/device:GPU:0':\n",
        "  print(\n",
        "      '\\n\\nThis error most likely means that this notebook is not '\n",
        "      'configured to use a GPU.  Change this in Notebook Settings via the '\n",
        "      'command palette (cmd/ctrl-shift-P) or the Edit menu.\\n\\n')\n",
        "  raise SystemError('GPU device not found')\n",
        "\n",
        "def cpu():\n",
        "  with tf.device('/cpu:0'):\n",
        "    random_image_cpu = tf.random.normal((100, 100, 100, 3))\n",
        "    net_cpu = tf.keras.layers.Conv2D(32, 7)(random_image_cpu)\n",
        "    return tf.math.reduce_sum(net_cpu)\n",
        "\n",
        "def gpu():\n",
        "  with tf.device('/device:GPU:0'):\n",
        "    random_image_gpu = tf.random.normal((100, 100, 100, 3))\n",
        "    net_gpu = tf.keras.layers.Conv2D(32, 7)(random_image_gpu)\n",
        "    return tf.math.reduce_sum(net_gpu)\n",
        "  \n",
        "# We run each op once to warm up; see: https://stackoverflow.com/a/45067900\n",
        "cpu()\n",
        "gpu()\n",
        "\n",
        "# Run the op several times.\n",
        "print('Time (s) to convolve 32x7x7x3 filter over random 100x100x100x3 images '\n",
        "      '(batch x height x width x channel). Sum of ten runs.')\n",
        "print('CPU (s):')\n",
        "cpu_time = timeit.timeit('cpu()', number=10, setup=\"from __main__ import cpu\")\n",
        "print(cpu_time)\n",
        "print('GPU (s):')\n",
        "gpu_time = timeit.timeit('gpu()', number=10, setup=\"from __main__ import gpu\")\n",
        "print(gpu_time)\n",
        "print('GPU speedup over CPU: {}x'.format(int(cpu_time/gpu_time)))"
      ],
      "execution_count": null,
      "outputs": [
        {
          "output_type": "stream",
          "text": [
            "Time (s) to convolve 32x7x7x3 filter over random 100x100x100x3 images (batch x height x width x channel). Sum of ten runs.\n",
            "CPU (s):\n",
            "3.3866142530000047\n",
            "GPU (s):\n",
            "0.10773129900000811\n",
            "GPU speedup over CPU: 31x\n"
          ],
          "name": "stdout"
        }
      ]
    },
    {
      "cell_type": "code",
      "metadata": {
        "id": "zMYVjmfVoct6"
      },
      "source": [
        "import os\n",
        "import zipfile\n",
        "import random\n",
        "import shutil\n",
        "import tensorflow as tf\n",
        "from tensorflow.keras.optimizers import RMSprop\n",
        "from tensorflow.keras.preprocessing.image import ImageDataGenerator\n",
        "from shutil import copyfile\n",
        "from os import getcwd\n",
        "from os import listdir\n",
        "import cv2\n",
        "from tensorflow.keras.layers import Conv2D, Input, ZeroPadding2D, BatchNormalization, Activation, MaxPooling2D, Flatten, Dense\n",
        "from tensorflow.keras.models import Model, load_model\n",
        "from tensorflow.keras.callbacks import TensorBoard, ModelCheckpoint\n",
        "from sklearn.model_selection import train_test_split\n",
        "from sklearn.metrics import f1_score\n",
        "from sklearn.utils import shuffle\n",
        "import imutils\n",
        "import numpy as np\n",
        "import matplotlib.pyplot as plt\n",
        "import matplotlib.image  as mpimg"
      ],
      "execution_count": null,
      "outputs": []
    },
    {
      "cell_type": "code",
      "metadata": {
        "id": "LvrbEw0opMXp",
        "colab": {
          "base_uri": "https://localhost:8080/"
        },
        "outputId": "acf8568b-fe83-4b23-f5d0-ed17fac7274d"
      },
      "source": [
        " from google.colab import drive\n",
        "drive.mount('/content/drive')"
      ],
      "execution_count": null,
      "outputs": [
        {
          "output_type": "stream",
          "text": [
            "Mounted at /content/drive\n"
          ],
          "name": "stdout"
        }
      ]
    },
    {
      "cell_type": "code",
      "metadata": {
        "id": "hPtjF6b1ocub",
        "colab": {
          "base_uri": "https://localhost:8080/",
          "height": 214
        },
        "outputId": "2562df37-bca7-4357-9dab-d017f22725ec"
      },
      "source": [
        "print(\"The number of images with facemask labelled 'wit_mask':\",len(os.listdir('/content/drive/My Drive/dataset/with_mask')))\n",
        "print(\"The number of images with facemask labelled 'without_mask':\",len(os.listdir('/content/drive/My Drive/dataset/without_mask')))"
      ],
      "execution_count": null,
      "outputs": [
        {
          "output_type": "error",
          "ename": "NameError",
          "evalue": "ignored",
          "traceback": [
            "\u001b[0;31m---------------------------------------------------------------------------\u001b[0m",
            "\u001b[0;31mNameError\u001b[0m                                 Traceback (most recent call last)",
            "\u001b[0;32m<ipython-input-2-00aa87b9796b>\u001b[0m in \u001b[0;36m<module>\u001b[0;34m()\u001b[0m\n\u001b[0;32m----> 1\u001b[0;31m \u001b[0mprint\u001b[0m\u001b[0;34m(\u001b[0m\u001b[0;34m\"The number of images with facemask labelled 'wit_mask':\"\u001b[0m\u001b[0;34m,\u001b[0m\u001b[0mlen\u001b[0m\u001b[0;34m(\u001b[0m\u001b[0mos\u001b[0m\u001b[0;34m.\u001b[0m\u001b[0mlistdir\u001b[0m\u001b[0;34m(\u001b[0m\u001b[0;34m'/content/drive/My Drive/dataset/with_mask'\u001b[0m\u001b[0;34m)\u001b[0m\u001b[0;34m)\u001b[0m\u001b[0;34m)\u001b[0m\u001b[0;34m\u001b[0m\u001b[0;34m\u001b[0m\u001b[0m\n\u001b[0m\u001b[1;32m      2\u001b[0m \u001b[0mprint\u001b[0m\u001b[0;34m(\u001b[0m\u001b[0;34m\"The number of images with facemask labelled 'without_mask':\"\u001b[0m\u001b[0;34m,\u001b[0m\u001b[0mlen\u001b[0m\u001b[0;34m(\u001b[0m\u001b[0mos\u001b[0m\u001b[0;34m.\u001b[0m\u001b[0mlistdir\u001b[0m\u001b[0;34m(\u001b[0m\u001b[0;34m'/content/drive/My Drive/dataset/without_mask'\u001b[0m\u001b[0;34m)\u001b[0m\u001b[0;34m)\u001b[0m\u001b[0;34m)\u001b[0m\u001b[0;34m\u001b[0m\u001b[0;34m\u001b[0m\u001b[0m\n",
            "\u001b[0;31mNameError\u001b[0m: name 'os' is not defined"
          ]
        }
      ]
    },
    {
      "cell_type": "code",
      "metadata": {
        "id": "ipdXv9gdocu2",
        "colab": {
          "base_uri": "https://localhost:8080/"
        },
        "outputId": "dd77faf9-5735-4198-a62f-991af5306b78"
      },
      "source": [
        "def data_summary(main_path):\n",
        "    \n",
        "    yes_path = main_path+'with_mask'\n",
        "    no_path = main_path+'without_mask'\n",
        "        \n",
        "    # number of files (images) that are in the the folder named 'with_mask'\n",
        "    no_with_mask = len(listdir(yes_path))\n",
        "    # number of files (images) that are in the the folder named 'without_mask'\n",
        "    no_without_mask = len(listdir(no_path))\n",
        "    # number of all examples\n",
        "    total = (no_with_mask+no_without_mask)\n",
        "    \n",
        "    with_mask_perc = (no_with_mask* 100.0)/ total\n",
        "    without_mask_perc = (no_without_mask* 100.0)/ total\n",
        "    \n",
        "    print(f\"Number of examples: {total}\")\n",
        "    print(f\"Percentage of positive examples: {with_mask_perc}%, number of positive (with_mask) examples: {no_with_mask}\") \n",
        "    print(f\"Percentage of negative examples: {without_mask_perc}%, number of neg (without_mask) examples: {no_without_mask}\") \n",
        "    \n",
        "main_path_of_the_images = '/content/drive/My Drive/dataset/'    \n",
        "data_summary(main_path_of_the_images)"
      ],
      "execution_count": null,
      "outputs": [
        {
          "output_type": "stream",
          "text": [
            "Number of examples: 3835\n",
            "Percentage of positive examples: 49.960886571056065%, number of positive (with_mask) examples: 1916\n",
            "Percentage of negative examples: 50.039113428943935%, number of neg (without_mask) examples: 1919\n"
          ],
          "name": "stdout"
        }
      ]
    },
    {
      "cell_type": "code",
      "metadata": {
        "id": "P9WkOMLzocvK"
      },
      "source": [
        "def spliting_data(SOURCE, TRAINING, TESTING, SPLIT_SIZE):\n",
        "    dataset = []\n",
        "    \n",
        "    for image_file in os.listdir(SOURCE):\n",
        "        data = SOURCE + image_file\n",
        "        if(os.path.getsize(data) > 0):\n",
        "            dataset.append(image_file)\n",
        "        else:\n",
        "            print('Skipped ' + file)\n",
        "            print('Invalid file i.e zero size')\n",
        "    \n",
        "    train_set_length = int(len(dataset) * SPLIT_SIZE)\n",
        "    test_set_length = int(len(dataset) - train_set_length)\n",
        "    train_set = dataset[0:train_set_length]\n",
        "    test_set = dataset[-test_set_length:]\n",
        "       \n",
        "    for image_file in train_set:\n",
        "        temp_train_set = SOURCE + image_file\n",
        "        final_train_set = TRAINING + image_file\n",
        "        copyfile(temp_train_set, final_train_set)\n",
        "    \n",
        "    for image_file in test_set:\n",
        "        temp_test_set = SOURCE + image_file\n",
        "        final_test_set = TESTING + image_file\n",
        "        copyfile(temp_test_set, final_test_set)\n",
        "\n",
        "       \n",
        "        \n",
        "with_mask_source_dir = \"/content/drive/My Drive/dataset/with_mask/\"\n",
        "with_mask_training_dir = \"/content/drive/My Drive/facemask_dataset/training/with_mask_train/\"\n",
        "with_mask_testing_dir = \"/content/drive/My Drive/facemask_dataset/testing/with_mask_test/\"\n",
        "without_mask_source_dir = \"/content/drive/My Drive/dataset/without_mask/\"\n",
        "without_mask_training_dir = \"/content/drive/My Drive/facemask_dataset/training/without_mask_train/\"\n",
        "without_mask_testing_dir = \"/content/drive/My Drive/facemask_dataset/testing/without_mask_test/\"\n",
        "split_size = .8\n",
        "spliting_data(with_mask_source_dir, with_mask_training_dir, with_mask_testing_dir, split_size)\n",
        "spliting_data(without_mask_source_dir, without_mask_training_dir, without_mask_testing_dir, split_size)"
      ],
      "execution_count": null,
      "outputs": []
    },
    {
      "cell_type": "code",
      "metadata": {
        "id": "if3WumVdocvg",
        "colab": {
          "base_uri": "https://localhost:8080/"
        },
        "outputId": "271df3d6-e85b-4c3b-bdce-0469c76eafd5"
      },
      "source": [
        "print(\"The number of images with facemask in the training set labelled 'with mask':\", len(os.listdir('/content/drive/My Drive/facemask_dataset/training/with_mask_train')))\n",
        "print(\"The number of images with facemask in the test set labelled 'with mask':\", len(os.listdir('/content/drive/My Drive/facemask_dataset/testing/with_mask_test')))\n",
        "print(\"The number of images without facemask in the training set labelled 'without mask':\", len(os.listdir('/content/drive/My Drive/facemask_dataset/training/without_mask_train')))\n",
        "print(\"The number of images without facemask in the test set labelled 'without mask':\", len(os.listdir('/content/drive/My Drive/facemask_dataset/testing/without_mask_test')))"
      ],
      "execution_count": null,
      "outputs": [
        {
          "output_type": "stream",
          "text": [
            "The number of images with facemask in the training set labelled 'with mask': 1531\n",
            "The number of images with facemask in the test set labelled 'with mask': 383\n",
            "The number of images without facemask in the training set labelled 'without mask': 1534\n",
            "The number of images without facemask in the test set labelled 'without mask': 384\n"
          ],
          "name": "stdout"
        }
      ]
    },
    {
      "cell_type": "code",
      "metadata": {
        "id": "ZpOYobW1ocv3"
      },
      "source": [
        "model = tf.keras.models.Sequential([\n",
        "    tf.keras.layers.Conv2D(100, (3,3), activation='relu', input_shape=(150, 150, 3)),\n",
        "    tf.keras.layers.MaxPooling2D(2,2),\n",
        "    \n",
        "    tf.keras.layers.Conv2D(100, (3,3), activation='relu'),\n",
        "    tf.keras.layers.MaxPooling2D(2,2),\n",
        "    \n",
        "    tf.keras.layers.Conv2D(100, (3,3), activation='relu'),\n",
        "    tf.keras.layers.MaxPooling2D(2,2),\n",
        "    \n",
        "    tf.keras.layers.Flatten(),\n",
        "    tf.keras.layers.Dropout(0.5),\n",
        "    tf.keras.layers.Dense(50, activation='relu'),\n",
        "    tf.keras.layers.Dense(2, activation='softmax')\n",
        "])\n",
        "model.compile(optimizer='adam', loss='binary_crossentropy', metrics=['acc'])"
      ],
      "execution_count": null,
      "outputs": []
    },
    {
      "cell_type": "code",
      "metadata": {
        "id": "o7Dg1PhfocwK",
        "colab": {
          "base_uri": "https://localhost:8080/"
        },
        "outputId": "c88cdfca-24c3-40f5-ca2f-7bbf21707a16"
      },
      "source": [
        "TRAINING_DIR = \"/content/drive/My Drive/facemask_dataset/training\"\n",
        "#augumenting the data for increasing the accuracy on training the model\n",
        "train_datagen = ImageDataGenerator(rescale=1.0/255,\n",
        "                                   rotation_range=40,\n",
        "                                   width_shift_range=0.2,\n",
        "                                   height_shift_range=0.2,\n",
        "                                   shear_range=0.2,\n",
        "                                   zoom_range=0.2,\n",
        "                                   horizontal_flip=True,\n",
        "                                   fill_mode='nearest')\n",
        "\n",
        "train_generator = train_datagen.flow_from_directory(TRAINING_DIR, \n",
        "                                                    batch_size=10, \n",
        "                                                    target_size=(150, 150))\n",
        "VALIDATION_DIR = \"/content/drive/My Drive/facemask_dataset/testing\"\n",
        "validation_datagen = ImageDataGenerator(rescale=1.0/255)\n",
        "\n",
        "validation_generator = validation_datagen.flow_from_directory(VALIDATION_DIR, \n",
        "                                                         batch_size=10, \n",
        "                                                         target_size=(150, 150))\n",
        "checkpoint = ModelCheckpoint('model-{epoch:03d}.model',monitor='val_loss',verbose=0,save_best_only=True,mode='auto')"
      ],
      "execution_count": null,
      "outputs": [
        {
          "output_type": "stream",
          "text": [
            "Found 3065 images belonging to 2 classes.\n",
            "Found 767 images belonging to 2 classes.\n"
          ],
          "name": "stdout"
        }
      ]
    },
    {
      "cell_type": "code",
      "metadata": {
        "id": "NVgt808NTuIL",
        "colab": {
          "base_uri": "https://localhost:8080/"
        },
        "outputId": "6c06a97c-6d4d-4855-a41a-c4dd3e385170"
      },
      "source": [
        "import os\n",
        "from PIL import Image\n",
        "folder_path = '/content/drive/My Drive/facemask_dataset/training'\n",
        "extensions = []\n",
        "for fldr in os.listdir(folder_path):\n",
        "    sub_folder_path = os.path.join(folder_path, fldr)\n",
        "    for filee in os.listdir(sub_folder_path):\n",
        "        file_path = os.path.join(sub_folder_path, filee)\n",
        "        print('** Path: {}  **'.format(file_path), end=\"\\r\", flush=True)\n",
        "        im = Image.open(file_path)\n",
        "        rgb_im = im.convert('RGB')\n",
        "        if filee.split('.')[1] not in extensions:\n",
        "            extensions.append(filee.split('.')[1])"
      ],
      "execution_count": null,
      "outputs": [
        {
          "output_type": "stream",
          "text": [
            ""
          ],
          "name": "stdout"
        },
        {
          "output_type": "stream",
          "text": [
            "/usr/local/lib/python3.6/dist-packages/PIL/Image.py:932: UserWarning: Palette images with Transparency expressed in bytes should be converted to RGBA images\n",
            "  \"Palette images with Transparency expressed in bytes should be \"\n"
          ],
          "name": "stderr"
        },
        {
          "output_type": "stream",
          "text": [
            ""
          ],
          "name": "stdout"
        }
      ]
    },
    {
      "cell_type": "code",
      "metadata": {
        "id": "elmyghBMXXfA",
        "colab": {
          "base_uri": "https://localhost:8080/"
        },
        "outputId": "5c6c3ae1-7c55-4202-e550-fb47618dcee0"
      },
      "source": [
        "import os\n",
        "from PIL import Image\n",
        "folder_path = '/content/drive/My Drive/facemask_dataset/testing'\n",
        "extensions = []\n",
        "for fldr in os.listdir(folder_path):\n",
        "    sub_folder_path = os.path.join(folder_path, fldr)\n",
        "    for filee in os.listdir(sub_folder_path):\n",
        "        file_path = os.path.join(sub_folder_path, filee)\n",
        "        print('** Path: {}  **'.format(file_path), end=\"\\r\", flush=True)\n",
        "        im = Image.open(file_path)\n",
        "        rgb_im = im.convert('RGB')\n",
        "        if filee.split('.')[1] not in extensions:\n",
        "            extensions.append(filee.split('.')[1])"
      ],
      "execution_count": null,
      "outputs": [
        {
          "output_type": "stream",
          "text": [
            ""
          ],
          "name": "stdout"
        }
      ]
    },
    {
      "cell_type": "code",
      "metadata": {
        "id": "Kqb5R0Y0ocwX",
        "colab": {
          "base_uri": "https://localhost:8080/"
        },
        "outputId": "34e945d2-1fc2-45af-9842-5162902db474"
      },
      "source": [
        "history = model.fit_generator(train_generator,\n",
        "                              epochs=30,\n",
        "                              validation_data=validation_generator,\n",
        "                              callbacks=[checkpoint])"
      ],
      "execution_count": null,
      "outputs": [
        {
          "output_type": "stream",
          "text": [
            "Epoch 1/30\n",
            " 94/307 [========>.....................] - ETA: 23s - loss: 0.5279 - acc: 0.7436"
          ],
          "name": "stdout"
        },
        {
          "output_type": "stream",
          "text": [
            "/usr/local/lib/python3.6/dist-packages/PIL/Image.py:932: UserWarning: Palette images with Transparency expressed in bytes should be converted to RGBA images\n",
            "  \"Palette images with Transparency expressed in bytes should be \"\n"
          ],
          "name": "stderr"
        },
        {
          "output_type": "stream",
          "text": [
            "307/307 [==============================] - ETA: 0s - loss: 0.4147 - acc: 0.8235INFO:tensorflow:Assets written to: model-001.model/assets\n",
            "307/307 [==============================] - 36s 116ms/step - loss: 0.4147 - acc: 0.8235 - val_loss: 0.2564 - val_acc: 0.8866\n",
            "Epoch 2/30\n",
            "307/307 [==============================] - ETA: 0s - loss: 0.3361 - acc: 0.8672INFO:tensorflow:Assets written to: model-002.model/assets\n",
            "307/307 [==============================] - 35s 115ms/step - loss: 0.3361 - acc: 0.8672 - val_loss: 0.2046 - val_acc: 0.9309\n",
            "Epoch 3/30\n",
            "307/307 [==============================] - 35s 114ms/step - loss: 0.3206 - acc: 0.8734 - val_loss: 0.2235 - val_acc: 0.9035\n",
            "Epoch 4/30\n",
            "307/307 [==============================] - 35s 113ms/step - loss: 0.3143 - acc: 0.8728 - val_loss: 0.3251 - val_acc: 0.9009\n",
            "Epoch 5/30\n",
            "307/307 [==============================] - 35s 113ms/step - loss: 0.3240 - acc: 0.8692 - val_loss: 0.2818 - val_acc: 0.9244\n",
            "Epoch 6/30\n",
            "307/307 [==============================] - ETA: 0s - loss: 0.3115 - acc: 0.8754INFO:tensorflow:Assets written to: model-006.model/assets\n",
            "307/307 [==============================] - 35s 116ms/step - loss: 0.3115 - acc: 0.8754 - val_loss: 0.1950 - val_acc: 0.9387\n",
            "Epoch 7/30\n",
            "307/307 [==============================] - ETA: 0s - loss: 0.2935 - acc: 0.8920INFO:tensorflow:Assets written to: model-007.model/assets\n",
            "307/307 [==============================] - 35s 115ms/step - loss: 0.2935 - acc: 0.8920 - val_loss: 0.1864 - val_acc: 0.9452\n",
            "Epoch 8/30\n",
            "307/307 [==============================] - 35s 113ms/step - loss: 0.2794 - acc: 0.8940 - val_loss: 0.2258 - val_acc: 0.8996\n",
            "Epoch 9/30\n",
            "307/307 [==============================] - ETA: 0s - loss: 0.2811 - acc: 0.8891INFO:tensorflow:Assets written to: model-009.model/assets\n",
            "307/307 [==============================] - 35s 115ms/step - loss: 0.2811 - acc: 0.8891 - val_loss: 0.1786 - val_acc: 0.9518\n",
            "Epoch 10/30\n",
            "307/307 [==============================] - ETA: 0s - loss: 0.2720 - acc: 0.8940INFO:tensorflow:Assets written to: model-010.model/assets\n",
            "307/307 [==============================] - 35s 115ms/step - loss: 0.2720 - acc: 0.8940 - val_loss: 0.1517 - val_acc: 0.9505\n",
            "Epoch 11/30\n",
            "307/307 [==============================] - 34s 112ms/step - loss: 0.2674 - acc: 0.8976 - val_loss: 0.1538 - val_acc: 0.9557\n",
            "Epoch 12/30\n",
            "307/307 [==============================] - ETA: 0s - loss: 0.2662 - acc: 0.9011INFO:tensorflow:Assets written to: model-012.model/assets\n",
            "307/307 [==============================] - 35s 115ms/step - loss: 0.2662 - acc: 0.9011 - val_loss: 0.1437 - val_acc: 0.9544\n",
            "Epoch 13/30\n",
            "307/307 [==============================] - ETA: 0s - loss: 0.2788 - acc: 0.8930INFO:tensorflow:Assets written to: model-013.model/assets\n",
            "307/307 [==============================] - 35s 114ms/step - loss: 0.2788 - acc: 0.8930 - val_loss: 0.1242 - val_acc: 0.9596\n",
            "Epoch 14/30\n",
            "307/307 [==============================] - 34s 111ms/step - loss: 0.2512 - acc: 0.9038 - val_loss: 0.1873 - val_acc: 0.9505\n",
            "Epoch 15/30\n",
            "307/307 [==============================] - 34s 111ms/step - loss: 0.2498 - acc: 0.9044 - val_loss: 0.1376 - val_acc: 0.9570\n",
            "Epoch 16/30\n",
            "307/307 [==============================] - 34s 112ms/step - loss: 0.2265 - acc: 0.9168 - val_loss: 0.1860 - val_acc: 0.9452\n",
            "Epoch 17/30\n",
            "307/307 [==============================] - ETA: 0s - loss: 0.2335 - acc: 0.9113INFO:tensorflow:Assets written to: model-017.model/assets\n",
            "307/307 [==============================] - 35s 115ms/step - loss: 0.2335 - acc: 0.9113 - val_loss: 0.1100 - val_acc: 0.9661\n",
            "Epoch 18/30\n",
            "307/307 [==============================] - 34s 111ms/step - loss: 0.2283 - acc: 0.9188 - val_loss: 0.1177 - val_acc: 0.9635\n",
            "Epoch 19/30\n",
            "307/307 [==============================] - 34s 111ms/step - loss: 0.2015 - acc: 0.9220 - val_loss: 0.1367 - val_acc: 0.9518\n",
            "Epoch 20/30\n",
            "307/307 [==============================] - 34s 111ms/step - loss: 0.2194 - acc: 0.9132 - val_loss: 0.1197 - val_acc: 0.9661\n",
            "Epoch 21/30\n",
            "307/307 [==============================] - 34s 111ms/step - loss: 0.2124 - acc: 0.9155 - val_loss: 0.1930 - val_acc: 0.9140\n",
            "Epoch 22/30\n",
            "307/307 [==============================] - 34s 112ms/step - loss: 0.2041 - acc: 0.9158 - val_loss: 0.1524 - val_acc: 0.9570\n",
            "Epoch 23/30\n",
            "307/307 [==============================] - ETA: 0s - loss: 0.1954 - acc: 0.9312INFO:tensorflow:Assets written to: model-023.model/assets\n",
            "307/307 [==============================] - 35s 114ms/step - loss: 0.1954 - acc: 0.9312 - val_loss: 0.1063 - val_acc: 0.9687\n",
            "Epoch 24/30\n",
            "307/307 [==============================] - 34s 111ms/step - loss: 0.2037 - acc: 0.9197 - val_loss: 0.1366 - val_acc: 0.9583\n",
            "Epoch 25/30\n",
            "307/307 [==============================] - 34s 112ms/step - loss: 0.2134 - acc: 0.9197 - val_loss: 0.1096 - val_acc: 0.9674\n",
            "Epoch 26/30\n",
            "307/307 [==============================] - 35s 113ms/step - loss: 0.1789 - acc: 0.9276 - val_loss: 0.1363 - val_acc: 0.9648\n",
            "Epoch 27/30\n",
            "307/307 [==============================] - 34s 112ms/step - loss: 0.1995 - acc: 0.9266 - val_loss: 0.1145 - val_acc: 0.9609\n",
            "Epoch 28/30\n",
            "307/307 [==============================] - 34s 111ms/step - loss: 0.1833 - acc: 0.9295 - val_loss: 0.1419 - val_acc: 0.9583\n",
            "Epoch 29/30\n",
            "307/307 [==============================] - 34s 110ms/step - loss: 0.1825 - acc: 0.9289 - val_loss: 0.1260 - val_acc: 0.9544\n",
            "Epoch 30/30\n",
            "307/307 [==============================] - 34s 111ms/step - loss: 0.1779 - acc: 0.9321 - val_loss: 0.1722 - val_acc: 0.9452\n"
          ],
          "name": "stdout"
        }
      ]
    },
    {
      "cell_type": "code",
      "metadata": {
        "id": "u_9elSkEy4cg",
        "colab": {
          "base_uri": "https://localhost:8080/",
          "height": 281
        },
        "outputId": "1cf9b560-3d05-4b9b-f6ad-15d45f27ce51"
      },
      "source": [
        "from matplotlib import pyplot as plt \n",
        "\n",
        "plt.plot(history.history['acc'] , label='tranning accuracy')\n",
        "plt.plot(history.history['val_acc'] , label = 'validation accuracy')\n",
        "plt.plot(history.history['loss'] , label='tranning loss')\n",
        "plt.plot(history.history['val_loss'] , label = 'validation loss')\n",
        "plt.xlabel(\"# epochs\")\n",
        "plt.ylabel('loss')\n",
        "plt.legend()\n",
        "plt.show()"
      ],
      "execution_count": null,
      "outputs": [
        {
          "output_type": "display_data",
          "data": {
            "image/png": "[encoded data removed]",
            "text/plain": [
              "<Figure size 432x288 with 1 Axes>"
            ]
          },
          "metadata": {
            "tags": [],
            "needs_background": "light"
          }
        }
      ]
    },
    {
      "cell_type": "code",
      "metadata": {
        "id": "s6wtVDTAocwj"
      },
      "source": [
        "face_clsfr=cv2.CascadeClassifier('/content/drive/My Drive/haarcascade_frontalface_default.xml')\n",
        "labels_dict={0:'without_mask',1:'with_mask'}\n",
        "color_dict={0:(0,0,255),1:(0,255,0)}\n",
        "\n",
        "size = 4\n",
        "webcam = cv2.VideoCapture(0) #Use camera 0\n"
      ],
      "execution_count": null,
      "outputs": []
    },
    {
      "cell_type": "code",
      "metadata": {
        "id": "d657NgKozpT0"
      },
      "source": [
        "#\n",
        "# based on: https://colab.research.google.com/notebooks/snippets/advanced_outputs.ipynb#scrollTo=2viqYx97hPMi\n",
        "#\n",
        "\n",
        "from IPython.display import display, Javascript\n",
        "from google.colab.output import eval_js\n",
        "from base64 import b64decode, b64encode\n",
        "import numpy as np\n",
        "\n",
        "def init_camera():\n",
        "  \"\"\"Create objects and functions in HTML/JavaScript to access local web camera\"\"\"\n",
        "\n",
        "  js = Javascript('''\n",
        "\n",
        "    // global variables to use in both functions\n",
        "    var div = null;\n",
        "    var video = null;   // <video> to display stream from local webcam\n",
        "    var stream = null;  // stream from local webcam\n",
        "    var canvas = null;  // <canvas> for single frame from <video> and convert frame to JPG\n",
        "    var img = null;     // <img> to display JPG after processing with `cv2`\n",
        "\n",
        "    async function initCamera() {\n",
        "      // place for video (and eventually buttons)\n",
        "      div = document.createElement('div');\n",
        "      document.body.appendChild(div);\n",
        "\n",
        "      // <video> to display video\n",
        "      video = document.createElement('video');\n",
        "      video.style.display = 'block';\n",
        "      div.appendChild(video);\n",
        "\n",
        "      // get webcam stream and assing to <video>\n",
        "      stream = await navigator.mediaDevices.getUserMedia({video: true});\n",
        "      video.srcObject = stream;\n",
        "\n",
        "      // start playing stream from webcam in <video>\n",
        "      await video.play();\n",
        "\n",
        "      // Resize the output to fit the video element.\n",
        "      google.colab.output.setIframeHeight(document.documentElement.scrollHeight, true);\n",
        "\n",
        "      // <canvas> for frame from <video>\n",
        "      canvas = document.createElement('canvas');\n",
        "      canvas.width = video.videoWidth;\n",
        "      canvas.height = video.videoHeight;\n",
        "      //div.appendChild(input_canvas); // there is no need to display to get image (but you can display it for test)\n",
        "\n",
        "      // <img> for image after processing with `cv2`\n",
        "      img = document.createElement('img');\n",
        "      img.width = video.videoWidth;\n",
        "      img.height = video.videoHeight;\n",
        "      div.appendChild(img);\n",
        "    }\n",
        "\n",
        "    async function takeImage(quality) {\n",
        "      // draw frame from <video> on <canvas>\n",
        "      canvas.getContext('2d').drawImage(video, 0, 0);\n",
        "\n",
        "      // stop webcam stream\n",
        "      //stream.getVideoTracks()[0].stop();\n",
        "\n",
        "      // get data from <canvas> as JPG image decoded base64 and with header \"data:image/jpg;base64,\"\n",
        "      return canvas.toDataURL('image/jpeg', quality);\n",
        "      //return canvas.toDataURL('image/png', quality);\n",
        "    }\n",
        "\n",
        "    async function showImage(image) {\n",
        "      // it needs string \"data:image/jpg;base64,JPG-DATA-ENCODED-BASE64\"\n",
        "      // it will replace previous image in `<img src=\"\">`\n",
        "      img.src = image;\n",
        "      // TODO: create <img> if doesn't exists, \n",
        "      // TODO: use `id` to use different `<img>` for different image - like `name` in `cv2.imshow(name, image)`\n",
        "    }\n",
        "\n",
        "  ''')\n",
        "\n",
        "  display(js)\n",
        "  eval_js('initCamera()')\n",
        "\n",
        "def take_frame(quality=0.8):\n",
        "  \"\"\"Get frame from web camera\"\"\"\n",
        "\n",
        "  data = eval_js('takeImage({})'.format(quality))  # run JavaScript code to get image (JPG as string base64) from <canvas>\n",
        "\n",
        "  header, data = data.split(',')  # split header (\"data:image/jpg;base64,\") and base64 data (JPG)\n",
        "  data = b64decode(data)  # decode base64\n",
        "  data = np.frombuffer(data, dtype=np.uint8)  # create numpy array with JPG data\n",
        "\n",
        "  img = cv2.imdecode(data, cv2.IMREAD_UNCHANGED)  # uncompress JPG data to array of pixels\n",
        "\n",
        "  return img\n",
        "\n",
        "def show_frame(img, quality=0.8):\n",
        "  \"\"\"Put frame as <img src=\"data:image/jpg;base64,....\"> \"\"\"\n",
        "\n",
        "  ret, data = cv2.imencode('.jpg', img)  # compress array of pixels to JPG data\n",
        "\n",
        "  data = b64encode(data)  # encode base64\n",
        "  data = data.decode()  # convert bytes to string\n",
        "  data = 'data:image/jpg;base64,' + data  # join header (\"data:image/jpg;base64,\") and base64 data (JPG)\n",
        "\n",
        "  eval_js('showImage(\"{}\")'.format(data))  # run JavaScript code to put image (JPG as string base64) in <img>\n",
        "                                           # argument in `showImage` needs `\" \"` "
      ],
      "execution_count": null,
      "outputs": []
    },
    {
      "cell_type": "code",
      "metadata": {
        "id": "taNjoJoPztEG"
      },
      "source": [
        "init_camera() #init javascript code\n",
        "classifier = cv2.CascadeClassifier('/content/drive/My Drive/haarcascade_frontalface_default.xml')\n",
        "\n",
        "while(True):\n",
        "\n",
        "  im = take_frame()\n",
        "  mini = cv2.resize(im, (im.shape[1] // size, im.shape[0] // size))\n",
        "  #gray = cv2.cvtColor(img , cv2.COLOR_BGR2GRAY)\n",
        "\n",
        "  faces = classifier.detectMultiScale(mini) ########\n",
        "  for f in faces:\n",
        "    (x, y, w, h) = [v * size for v in f] #Scale the shapesize backup\n",
        "    face_img = im[y:y+w , x:x+w]###############\n",
        "    resized = cv2.resize(face_img , (150,150)) # resize the face_img\n",
        "    normalized = resized /255.0 # normalized the value to 0 and 1\n",
        "    reshaped = np.reshape(normalized ,(1,150,150,3)) # convert the normalized img array to 4d for cnn\n",
        "    reshaped = np.vstack([reshaped])\n",
        "    result = model.predict(reshaped) #for getting the prediction\n",
        "\n",
        "    # print(result)\n",
        "    label = np.argmax(result , axis =1)[0] #########\n",
        "    # print (label)\n",
        "\n",
        "    cv2.rectangle(im , (x,y) , (x+w , y+h) ,color_dict[label] ,2) \n",
        "    #rectangle x,y one point and x+w ,y+h is another point. 2 is the border thin\n",
        "    cv2.rectangle(im ,(x,y-40),(x+w , y) , color_dict[label] , -1) #-1 for color filled\n",
        "    conf_perc = \"{:.2f}%\".format(result[0][label] * 100)\n",
        "    cv2.putText(im , labels_dict[label]+\" \" +str(conf_perc) , (x,y-10) , cv2.FONT_HERSHEY_COMPLEX , 0.8,(255,255,255) , 2)\n",
        "   \n",
        "    #cv2_imshow(gray)  # it creates new image for every frame (it doesn't replace previous image) so it is useless\n",
        "    #show_frame(gray)  # it replace previous image\n",
        "\n",
        "    show_frame(im) #it replaces the previous images\n",
        "    key = cv2.waitKey(1)\n",
        "\n",
        "    if(key==27):\n",
        "      break\n",
        "\n",
        "cv2.destroyAllWindows()\n",
        "source.release()"
      ],
      "execution_count": null,
      "outputs": []
    },
    {
      "cell_type": "code",
      "metadata": {
        "id": "KK_3-C8wP3cS",
        "colab": {
          "base_uri": "https://localhost:8080/",
          "height": 248
        },
        "outputId": "30683415-d28c-43f4-8212-a28f9b859012"
      },
      "source": [
        "from google.colab.patches import cv2_imshow\n",
        "classifier = cv2.CascadeClassifier('/content/drive/My Drive/haarcascade_frontalface_default.xml')\n",
        "\n",
        "im = cv2.imread(cv2.samples.findFile(\"/content/drive/My Drive/pic2.jpg\"))\n",
        "print(im.shape[0]/size)\n",
        "mini = cv2.resize(im, (im.shape[1] // size, im.shape[0] // size))\n",
        "#gray = cv2.cvtColor(img , cv2.COLOR_BGR2GRAY)\n",
        "\n",
        "faces = classifier.detectMultiScale(mini) ########\n",
        "for f in faces:\n",
        "  (x, y, w, h) = [v * size for v in f] #Scale the shapesize backup\n",
        "  face_img = im[y:y+w , x:x+w] ###############\n",
        "  resized = cv2.resize(face_img , (150,150)) # resize the face_img\n",
        "  normalized = resized /255.0 # normalized the value to 0 and 1\n",
        "  reshaped = np.reshape(normalized ,(1,150,150,3)) # convert the normalized img array to 4d for cnn\n",
        "  reshaped = np.vstack([reshaped])\n",
        "  result = model.predict(reshaped) #for getting the prediction\n",
        "\n",
        "  print(result)\n",
        "  label = np.argmax(result , axis =1)[0] #########\n",
        "  print (label)\n",
        "  cv2.rectangle(im , (x,y) , (x+w , y+h) ,color_dict[label] ,2) \n",
        "  #rectangle x,y one point and x+w ,y+h is another point. 2 is the border thin\n",
        "  cv2.rectangle(im ,(x,y-40),(x+w , y) , color_dict[label] , -1) #-1 for color filled\n",
        "  conf_perc = \"{:.2f}%\".format(result[0][label] * 100)\n",
        "  cv2.putText(im , labels_dict[label]+\" \" +str(conf_perc) , (x,y-10) , cv2.FONT_HERSHEY_COMPLEX , 0.8,(255,255,255) , 2)\n",
        "  \n",
        "  #cv2_imshow(gray)  # it creates new image for every frame (it doesn't replace previous image) so it is useless\n",
        "  #show_frame(gray)  # it replace previous image\n",
        "\n",
        "  # show_frame(im) #it replaces the previous images\n",
        "  cv2_imshow(im)\n",
        "  cv2.waitKey(0)\n"
      ],
      "execution_count": null,
      "outputs": [
        {
          "output_type": "error",
          "ename": "error",
          "evalue": "ignored",
          "traceback": [
            "\u001b[0;31m---------------------------------------------------------------------------\u001b[0m",
            "\u001b[0;31merror\u001b[0m                                     Traceback (most recent call last)",
            "\u001b[0;32m<ipython-input-9-985f2e7c9232>\u001b[0m in \u001b[0;36m<module>\u001b[0;34m()\u001b[0m\n\u001b[1;32m      2\u001b[0m \u001b[0mclassifier\u001b[0m \u001b[0;34m=\u001b[0m \u001b[0mcv2\u001b[0m\u001b[0;34m.\u001b[0m\u001b[0mCascadeClassifier\u001b[0m\u001b[0;34m(\u001b[0m\u001b[0;34m'/content/drive/My Drive/haarcascade_frontalface_default.xml'\u001b[0m\u001b[0;34m)\u001b[0m\u001b[0;34m\u001b[0m\u001b[0;34m\u001b[0m\u001b[0m\n\u001b[1;32m      3\u001b[0m \u001b[0;34m\u001b[0m\u001b[0m\n\u001b[0;32m----> 4\u001b[0;31m \u001b[0mim\u001b[0m \u001b[0;34m=\u001b[0m \u001b[0mcv2\u001b[0m\u001b[0;34m.\u001b[0m\u001b[0mimread\u001b[0m\u001b[0;34m(\u001b[0m\u001b[0mcv2\u001b[0m\u001b[0;34m.\u001b[0m\u001b[0msamples\u001b[0m\u001b[0;34m.\u001b[0m\u001b[0mfindFile\u001b[0m\u001b[0;34m(\u001b[0m\u001b[0;34m\"/content/drive/My Drive/pic2.jpg\"\u001b[0m\u001b[0;34m)\u001b[0m\u001b[0;34m)\u001b[0m\u001b[0;34m\u001b[0m\u001b[0;34m\u001b[0m\u001b[0m\n\u001b[0m\u001b[1;32m      5\u001b[0m \u001b[0mprint\u001b[0m\u001b[0;34m(\u001b[0m\u001b[0mim\u001b[0m\u001b[0;34m.\u001b[0m\u001b[0mshape\u001b[0m\u001b[0;34m[\u001b[0m\u001b[0;36m0\u001b[0m\u001b[0;34m]\u001b[0m\u001b[0;34m/\u001b[0m\u001b[0msize\u001b[0m\u001b[0;34m)\u001b[0m\u001b[0;34m\u001b[0m\u001b[0;34m\u001b[0m\u001b[0m\n\u001b[1;32m      6\u001b[0m \u001b[0mmini\u001b[0m \u001b[0;34m=\u001b[0m \u001b[0mcv2\u001b[0m\u001b[0;34m.\u001b[0m\u001b[0mresize\u001b[0m\u001b[0;34m(\u001b[0m\u001b[0mim\u001b[0m\u001b[0;34m,\u001b[0m \u001b[0;34m(\u001b[0m\u001b[0mim\u001b[0m\u001b[0;34m.\u001b[0m\u001b[0mshape\u001b[0m\u001b[0;34m[\u001b[0m\u001b[0;36m1\u001b[0m\u001b[0;34m]\u001b[0m \u001b[0;34m//\u001b[0m \u001b[0msize\u001b[0m\u001b[0;34m,\u001b[0m \u001b[0mim\u001b[0m\u001b[0;34m.\u001b[0m\u001b[0mshape\u001b[0m\u001b[0;34m[\u001b[0m\u001b[0;36m0\u001b[0m\u001b[0;34m]\u001b[0m \u001b[0;34m//\u001b[0m \u001b[0msize\u001b[0m\u001b[0;34m)\u001b[0m\u001b[0;34m)\u001b[0m\u001b[0;34m\u001b[0m\u001b[0;34m\u001b[0m\u001b[0m\n",
            "\u001b[0;31merror\u001b[0m: OpenCV(4.1.2) /io/opencv/modules/core/src/utils/samples.cpp:62: error: (-2:Unspecified error) OpenCV samples: Can't find required data file: /content/drive/My Drive/pic2.jpg in function 'findFile'\n"
          ]
        }
      ]
    }
  ]
}